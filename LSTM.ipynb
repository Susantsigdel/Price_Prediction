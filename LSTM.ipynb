{
  "nbformat": 4,
  "nbformat_minor": 0,
  "metadata": {
    "colab": {
      "provenance": []
    },
    "kernelspec": {
      "name": "python3",
      "display_name": "Python 3"
    },
    "language_info": {
      "name": "python"
    }
  },
  "cells": [
    {
      "cell_type": "markdown",
      "source": [
        "# This notebook demonstrates Neural Network using the LSTM (Long Short-Term Memory) model.\n",
        "The data is obtained from the Yahoo Finance to see if possible future predictions could be made from the previous data.                    \n",
        "\n",
        "\n",
        "\n",
        "                                                      -Susanta Sigdel"
      ],
      "metadata": {
        "id": "n-_UfYC-VX6n"
      }
    },
    {
      "cell_type": "markdown",
      "source": [
        "In this notebook we are trying to Pre process data obtained from the YFinance but the hard part is how we will feed the data to the Neural Network\n",
        "\n",
        "LSTM is a form of recurrence NN  for the purpose of time series forecasting data\n"
      ],
      "metadata": {
        "id": "knKqIv2CWTzH"
      }
    },
    {
      "cell_type": "code",
      "source": [
        "!pip install yfinance"
      ],
      "metadata": {
        "colab": {
          "base_uri": "https://localhost:8080/"
        },
        "id": "K5booC2wI7vf",
        "outputId": "b8de107f-a0d0-453c-bef8-aeca8f168b35"
      },
      "execution_count": null,
      "outputs": [
        {
          "output_type": "stream",
          "name": "stdout",
          "text": [
            "Looking in indexes: https://pypi.org/simple, https://us-python.pkg.dev/colab-wheels/public/simple/\n",
            "Requirement already satisfied: yfinance in /usr/local/lib/python3.8/dist-packages (0.2.4)\n",
            "Requirement already satisfied: pandas>=1.3.0 in /usr/local/lib/python3.8/dist-packages (from yfinance) (1.3.5)\n",
            "Requirement already satisfied: pytz>=2022.5 in /usr/local/lib/python3.8/dist-packages (from yfinance) (2022.7)\n",
            "Requirement already satisfied: frozendict>=2.3.4 in /usr/local/lib/python3.8/dist-packages (from yfinance) (2.3.4)\n",
            "Requirement already satisfied: multitasking>=0.0.7 in /usr/local/lib/python3.8/dist-packages (from yfinance) (0.0.11)\n",
            "Requirement already satisfied: cryptography>=3.3.2 in /usr/local/lib/python3.8/dist-packages (from yfinance) (39.0.0)\n",
            "Requirement already satisfied: appdirs>=1.4.4 in /usr/local/lib/python3.8/dist-packages (from yfinance) (1.4.4)\n",
            "Requirement already satisfied: beautifulsoup4>=4.11.1 in /usr/local/lib/python3.8/dist-packages (from yfinance) (4.11.1)\n",
            "Requirement already satisfied: lxml>=4.9.1 in /usr/local/lib/python3.8/dist-packages (from yfinance) (4.9.2)\n",
            "Requirement already satisfied: requests>=2.26 in /usr/local/lib/python3.8/dist-packages (from yfinance) (2.28.2)\n",
            "Requirement already satisfied: html5lib>=1.1 in /usr/local/lib/python3.8/dist-packages (from yfinance) (1.1)\n",
            "Requirement already satisfied: numpy>=1.16.5 in /usr/local/lib/python3.8/dist-packages (from yfinance) (1.21.6)\n",
            "Requirement already satisfied: soupsieve>1.2 in /usr/local/lib/python3.8/dist-packages (from beautifulsoup4>=4.11.1->yfinance) (2.3.2.post1)\n",
            "Requirement already satisfied: cffi>=1.12 in /usr/local/lib/python3.8/dist-packages (from cryptography>=3.3.2->yfinance) (1.15.1)\n",
            "Requirement already satisfied: webencodings in /usr/local/lib/python3.8/dist-packages (from html5lib>=1.1->yfinance) (0.5.1)\n",
            "Requirement already satisfied: six>=1.9 in /usr/local/lib/python3.8/dist-packages (from html5lib>=1.1->yfinance) (1.15.0)\n",
            "Requirement already satisfied: python-dateutil>=2.7.3 in /usr/local/lib/python3.8/dist-packages (from pandas>=1.3.0->yfinance) (2.8.2)\n",
            "Requirement already satisfied: idna<4,>=2.5 in /usr/local/lib/python3.8/dist-packages (from requests>=2.26->yfinance) (2.10)\n",
            "Requirement already satisfied: charset-normalizer<4,>=2 in /usr/local/lib/python3.8/dist-packages (from requests>=2.26->yfinance) (2.1.1)\n",
            "Requirement already satisfied: certifi>=2017.4.17 in /usr/local/lib/python3.8/dist-packages (from requests>=2.26->yfinance) (2022.12.7)\n",
            "Requirement already satisfied: urllib3<1.27,>=1.21.1 in /usr/local/lib/python3.8/dist-packages (from requests>=2.26->yfinance) (1.24.3)\n",
            "Requirement already satisfied: pycparser in /usr/local/lib/python3.8/dist-packages (from cffi>=1.12->cryptography>=3.3.2->yfinance) (2.21)\n"
          ]
        }
      ]
    },
    {
      "cell_type": "code",
      "source": [
        "import pandas as pd \n",
        "import numpy as np\n",
        "import matplotlib.pyplot as plt\n",
        "import yfinance as yf"
      ],
      "metadata": {
        "id": "uMwkhGFNqKBv"
      },
      "execution_count": null,
      "outputs": []
    },
    {
      "cell_type": "code",
      "source": [
        "#Getting the data from the Yahoo Finance API\n",
        "data = yf.download(\"BTC-USD\", start=\"2022-06-13\", end=\"2023-01-13\")\n",
        "data_copy = data.copy()\n",
        "data.index.freq = 'd'"
      ],
      "metadata": {
        "colab": {
          "base_uri": "https://localhost:8080/"
        },
        "id": "3zmBpehxqWEC",
        "outputId": "fb23a4e2-3030-4bfd-bf25-9067c5903564"
      },
      "execution_count": null,
      "outputs": [
        {
          "output_type": "stream",
          "name": "stdout",
          "text": [
            "\r[*********************100%***********************]  1 of 1 completed\n"
          ]
        }
      ]
    },
    {
      "cell_type": "code",
      "source": [
        "data.describe()"
      ],
      "metadata": {
        "colab": {
          "base_uri": "https://localhost:8080/",
          "height": 364
        },
        "id": "sbQQGAIcqmfP",
        "outputId": "70a96cd4-df46-41ef-8749-b74df1a891d1"
      },
      "execution_count": null,
      "outputs": [
        {
          "output_type": "execute_result",
          "data": {
            "text/plain": [
              "               Open          High           Low         Close     Adj Close  \\\n",
              "count    214.000000    214.000000    214.000000    214.000000    214.000000   \n",
              "mean   19657.108837  20005.383223  19254.847127  19620.197512  19620.197512   \n",
              "std     2300.991293   2404.837307   2167.783147   2250.656196   2250.656196   \n",
              "min    15782.300781  16253.047852  15599.046875  15787.284180  15787.284180   \n",
              "25%    17142.666016  17381.103516  16928.018555  17142.005859  17142.005859   \n",
              "50%    19619.369141  20133.144531  19263.554688  19594.932617  19594.932617   \n",
              "75%    21129.786133  21519.286621  20606.770508  21071.231445  21071.231445   \n",
              "max    26737.578125  26795.589844  24346.115234  24424.068359  24424.068359   \n",
              "\n",
              "             Volume  \n",
              "count  2.140000e+02  \n",
              "mean   3.006371e+10  \n",
              "std    1.428292e+10  \n",
              "min    7.714767e+09  \n",
              "25%    2.105262e+10  \n",
              "50%    2.781130e+10  \n",
              "75%    3.530740e+10  \n",
              "max    1.189925e+11  "
            ],
            "text/html": [
              "\n",
              "  <div id=\"df-512055c4-1da3-48a0-bc2f-c148d0d8c899\">\n",
              "    <div class=\"colab-df-container\">\n",
              "      <div>\n",
              "<style scoped>\n",
              "    .dataframe tbody tr th:only-of-type {\n",
              "        vertical-align: middle;\n",
              "    }\n",
              "\n",
              "    .dataframe tbody tr th {\n",
              "        vertical-align: top;\n",
              "    }\n",
              "\n",
              "    .dataframe thead th {\n",
              "        text-align: right;\n",
              "    }\n",
              "</style>\n",
              "<table border=\"1\" class=\"dataframe\">\n",
              "  <thead>\n",
              "    <tr style=\"text-align: right;\">\n",
              "      <th></th>\n",
              "      <th>Open</th>\n",
              "      <th>High</th>\n",
              "      <th>Low</th>\n",
              "      <th>Close</th>\n",
              "      <th>Adj Close</th>\n",
              "      <th>Volume</th>\n",
              "    </tr>\n",
              "  </thead>\n",
              "  <tbody>\n",
              "    <tr>\n",
              "      <th>count</th>\n",
              "      <td>214.000000</td>\n",
              "      <td>214.000000</td>\n",
              "      <td>214.000000</td>\n",
              "      <td>214.000000</td>\n",
              "      <td>214.000000</td>\n",
              "      <td>2.140000e+02</td>\n",
              "    </tr>\n",
              "    <tr>\n",
              "      <th>mean</th>\n",
              "      <td>19657.108837</td>\n",
              "      <td>20005.383223</td>\n",
              "      <td>19254.847127</td>\n",
              "      <td>19620.197512</td>\n",
              "      <td>19620.197512</td>\n",
              "      <td>3.006371e+10</td>\n",
              "    </tr>\n",
              "    <tr>\n",
              "      <th>std</th>\n",
              "      <td>2300.991293</td>\n",
              "      <td>2404.837307</td>\n",
              "      <td>2167.783147</td>\n",
              "      <td>2250.656196</td>\n",
              "      <td>2250.656196</td>\n",
              "      <td>1.428292e+10</td>\n",
              "    </tr>\n",
              "    <tr>\n",
              "      <th>min</th>\n",
              "      <td>15782.300781</td>\n",
              "      <td>16253.047852</td>\n",
              "      <td>15599.046875</td>\n",
              "      <td>15787.284180</td>\n",
              "      <td>15787.284180</td>\n",
              "      <td>7.714767e+09</td>\n",
              "    </tr>\n",
              "    <tr>\n",
              "      <th>25%</th>\n",
              "      <td>17142.666016</td>\n",
              "      <td>17381.103516</td>\n",
              "      <td>16928.018555</td>\n",
              "      <td>17142.005859</td>\n",
              "      <td>17142.005859</td>\n",
              "      <td>2.105262e+10</td>\n",
              "    </tr>\n",
              "    <tr>\n",
              "      <th>50%</th>\n",
              "      <td>19619.369141</td>\n",
              "      <td>20133.144531</td>\n",
              "      <td>19263.554688</td>\n",
              "      <td>19594.932617</td>\n",
              "      <td>19594.932617</td>\n",
              "      <td>2.781130e+10</td>\n",
              "    </tr>\n",
              "    <tr>\n",
              "      <th>75%</th>\n",
              "      <td>21129.786133</td>\n",
              "      <td>21519.286621</td>\n",
              "      <td>20606.770508</td>\n",
              "      <td>21071.231445</td>\n",
              "      <td>21071.231445</td>\n",
              "      <td>3.530740e+10</td>\n",
              "    </tr>\n",
              "    <tr>\n",
              "      <th>max</th>\n",
              "      <td>26737.578125</td>\n",
              "      <td>26795.589844</td>\n",
              "      <td>24346.115234</td>\n",
              "      <td>24424.068359</td>\n",
              "      <td>24424.068359</td>\n",
              "      <td>1.189925e+11</td>\n",
              "    </tr>\n",
              "  </tbody>\n",
              "</table>\n",
              "</div>\n",
              "      <button class=\"colab-df-convert\" onclick=\"convertToInteractive('df-512055c4-1da3-48a0-bc2f-c148d0d8c899')\"\n",
              "              title=\"Convert this dataframe to an interactive table.\"\n",
              "              style=\"display:none;\">\n",
              "        \n",
              "  <svg xmlns=\"http://www.w3.org/2000/svg\" height=\"24px\"viewBox=\"0 0 24 24\"\n",
              "       width=\"24px\">\n",
              "    <path d=\"M0 0h24v24H0V0z\" fill=\"none\"/>\n",
              "    <path d=\"M18.56 5.44l.94 2.06.94-2.06 2.06-.94-2.06-.94-.94-2.06-.94 2.06-2.06.94zm-11 1L8.5 8.5l.94-2.06 2.06-.94-2.06-.94L8.5 2.5l-.94 2.06-2.06.94zm10 10l.94 2.06.94-2.06 2.06-.94-2.06-.94-.94-2.06-.94 2.06-2.06.94z\"/><path d=\"M17.41 7.96l-1.37-1.37c-.4-.4-.92-.59-1.43-.59-.52 0-1.04.2-1.43.59L10.3 9.45l-7.72 7.72c-.78.78-.78 2.05 0 2.83L4 21.41c.39.39.9.59 1.41.59.51 0 1.02-.2 1.41-.59l7.78-7.78 2.81-2.81c.8-.78.8-2.07 0-2.86zM5.41 20L4 18.59l7.72-7.72 1.47 1.35L5.41 20z\"/>\n",
              "  </svg>\n",
              "      </button>\n",
              "      \n",
              "  <style>\n",
              "    .colab-df-container {\n",
              "      display:flex;\n",
              "      flex-wrap:wrap;\n",
              "      gap: 12px;\n",
              "    }\n",
              "\n",
              "    .colab-df-convert {\n",
              "      background-color: #E8F0FE;\n",
              "      border: none;\n",
              "      border-radius: 50%;\n",
              "      cursor: pointer;\n",
              "      display: none;\n",
              "      fill: #1967D2;\n",
              "      height: 32px;\n",
              "      padding: 0 0 0 0;\n",
              "      width: 32px;\n",
              "    }\n",
              "\n",
              "    .colab-df-convert:hover {\n",
              "      background-color: #E2EBFA;\n",
              "      box-shadow: 0px 1px 2px rgba(60, 64, 67, 0.3), 0px 1px 3px 1px rgba(60, 64, 67, 0.15);\n",
              "      fill: #174EA6;\n",
              "    }\n",
              "\n",
              "    [theme=dark] .colab-df-convert {\n",
              "      background-color: #3B4455;\n",
              "      fill: #D2E3FC;\n",
              "    }\n",
              "\n",
              "    [theme=dark] .colab-df-convert:hover {\n",
              "      background-color: #434B5C;\n",
              "      box-shadow: 0px 1px 3px 1px rgba(0, 0, 0, 0.15);\n",
              "      filter: drop-shadow(0px 1px 2px rgba(0, 0, 0, 0.3));\n",
              "      fill: #FFFFFF;\n",
              "    }\n",
              "  </style>\n",
              "\n",
              "      <script>\n",
              "        const buttonEl =\n",
              "          document.querySelector('#df-512055c4-1da3-48a0-bc2f-c148d0d8c899 button.colab-df-convert');\n",
              "        buttonEl.style.display =\n",
              "          google.colab.kernel.accessAllowed ? 'block' : 'none';\n",
              "\n",
              "        async function convertToInteractive(key) {\n",
              "          const element = document.querySelector('#df-512055c4-1da3-48a0-bc2f-c148d0d8c899');\n",
              "          const dataTable =\n",
              "            await google.colab.kernel.invokeFunction('convertToInteractive',\n",
              "                                                     [key], {});\n",
              "          if (!dataTable) return;\n",
              "\n",
              "          const docLinkHtml = 'Like what you see? Visit the ' +\n",
              "            '<a target=\"_blank\" href=https://colab.research.google.com/notebooks/data_table.ipynb>data table notebook</a>'\n",
              "            + ' to learn more about interactive tables.';\n",
              "          element.innerHTML = '';\n",
              "          dataTable['output_type'] = 'display_data';\n",
              "          await google.colab.output.renderOutput(dataTable, element);\n",
              "          const docLink = document.createElement('div');\n",
              "          docLink.innerHTML = docLinkHtml;\n",
              "          element.appendChild(docLink);\n",
              "        }\n",
              "      </script>\n",
              "    </div>\n",
              "  </div>\n",
              "  "
            ]
          },
          "metadata": {},
          "execution_count": 155
        }
      ]
    },
    {
      "cell_type": "code",
      "source": [
        "data.head()"
      ],
      "metadata": {
        "colab": {
          "base_uri": "https://localhost:8080/",
          "height": 388
        },
        "id": "p0HvH5oZqsiw",
        "outputId": "d936b988-1c0f-4472-df3c-5ec10af09646"
      },
      "execution_count": null,
      "outputs": [
        {
          "output_type": "execute_result",
          "data": {
            "text/plain": [
              "                                   Open          High           Low  \\\n",
              "Date                                                                  \n",
              "2022-06-13 00:00:00+00:00  26737.578125  26795.589844  22141.257812   \n",
              "2022-06-14 00:00:00+00:00  22487.986328  23018.951172  20950.818359   \n",
              "2022-06-15 00:00:00+00:00  22196.730469  22642.671875  20178.376953   \n",
              "2022-06-16 00:00:00+00:00  22576.304688  22868.921875  20265.226562   \n",
              "2022-06-17 00:00:00+00:00  20385.718750  21243.312500  20326.519531   \n",
              "\n",
              "                                  Close     Adj Close       Volume  \n",
              "Date                                                                \n",
              "2022-06-13 00:00:00+00:00  22487.388672  22487.388672  68204556440  \n",
              "2022-06-14 00:00:00+00:00  22206.792969  22206.792969  50913575242  \n",
              "2022-06-15 00:00:00+00:00  22572.839844  22572.839844  54912007015  \n",
              "2022-06-16 00:00:00+00:00  20381.650391  20381.650391  31183975654  \n",
              "2022-06-17 00:00:00+00:00  20471.482422  20471.482422  27132421514  "
            ],
            "text/html": [
              "\n",
              "  <div id=\"df-09fa81c1-9155-4959-99e0-fce76a8799de\">\n",
              "    <div class=\"colab-df-container\">\n",
              "      <div>\n",
              "<style scoped>\n",
              "    .dataframe tbody tr th:only-of-type {\n",
              "        vertical-align: middle;\n",
              "    }\n",
              "\n",
              "    .dataframe tbody tr th {\n",
              "        vertical-align: top;\n",
              "    }\n",
              "\n",
              "    .dataframe thead th {\n",
              "        text-align: right;\n",
              "    }\n",
              "</style>\n",
              "<table border=\"1\" class=\"dataframe\">\n",
              "  <thead>\n",
              "    <tr style=\"text-align: right;\">\n",
              "      <th></th>\n",
              "      <th>Open</th>\n",
              "      <th>High</th>\n",
              "      <th>Low</th>\n",
              "      <th>Close</th>\n",
              "      <th>Adj Close</th>\n",
              "      <th>Volume</th>\n",
              "    </tr>\n",
              "    <tr>\n",
              "      <th>Date</th>\n",
              "      <th></th>\n",
              "      <th></th>\n",
              "      <th></th>\n",
              "      <th></th>\n",
              "      <th></th>\n",
              "      <th></th>\n",
              "    </tr>\n",
              "  </thead>\n",
              "  <tbody>\n",
              "    <tr>\n",
              "      <th>2022-06-13 00:00:00+00:00</th>\n",
              "      <td>26737.578125</td>\n",
              "      <td>26795.589844</td>\n",
              "      <td>22141.257812</td>\n",
              "      <td>22487.388672</td>\n",
              "      <td>22487.388672</td>\n",
              "      <td>68204556440</td>\n",
              "    </tr>\n",
              "    <tr>\n",
              "      <th>2022-06-14 00:00:00+00:00</th>\n",
              "      <td>22487.986328</td>\n",
              "      <td>23018.951172</td>\n",
              "      <td>20950.818359</td>\n",
              "      <td>22206.792969</td>\n",
              "      <td>22206.792969</td>\n",
              "      <td>50913575242</td>\n",
              "    </tr>\n",
              "    <tr>\n",
              "      <th>2022-06-15 00:00:00+00:00</th>\n",
              "      <td>22196.730469</td>\n",
              "      <td>22642.671875</td>\n",
              "      <td>20178.376953</td>\n",
              "      <td>22572.839844</td>\n",
              "      <td>22572.839844</td>\n",
              "      <td>54912007015</td>\n",
              "    </tr>\n",
              "    <tr>\n",
              "      <th>2022-06-16 00:00:00+00:00</th>\n",
              "      <td>22576.304688</td>\n",
              "      <td>22868.921875</td>\n",
              "      <td>20265.226562</td>\n",
              "      <td>20381.650391</td>\n",
              "      <td>20381.650391</td>\n",
              "      <td>31183975654</td>\n",
              "    </tr>\n",
              "    <tr>\n",
              "      <th>2022-06-17 00:00:00+00:00</th>\n",
              "      <td>20385.718750</td>\n",
              "      <td>21243.312500</td>\n",
              "      <td>20326.519531</td>\n",
              "      <td>20471.482422</td>\n",
              "      <td>20471.482422</td>\n",
              "      <td>27132421514</td>\n",
              "    </tr>\n",
              "  </tbody>\n",
              "</table>\n",
              "</div>\n",
              "      <button class=\"colab-df-convert\" onclick=\"convertToInteractive('df-09fa81c1-9155-4959-99e0-fce76a8799de')\"\n",
              "              title=\"Convert this dataframe to an interactive table.\"\n",
              "              style=\"display:none;\">\n",
              "        \n",
              "  <svg xmlns=\"http://www.w3.org/2000/svg\" height=\"24px\"viewBox=\"0 0 24 24\"\n",
              "       width=\"24px\">\n",
              "    <path d=\"M0 0h24v24H0V0z\" fill=\"none\"/>\n",
              "    <path d=\"M18.56 5.44l.94 2.06.94-2.06 2.06-.94-2.06-.94-.94-2.06-.94 2.06-2.06.94zm-11 1L8.5 8.5l.94-2.06 2.06-.94-2.06-.94L8.5 2.5l-.94 2.06-2.06.94zm10 10l.94 2.06.94-2.06 2.06-.94-2.06-.94-.94-2.06-.94 2.06-2.06.94z\"/><path d=\"M17.41 7.96l-1.37-1.37c-.4-.4-.92-.59-1.43-.59-.52 0-1.04.2-1.43.59L10.3 9.45l-7.72 7.72c-.78.78-.78 2.05 0 2.83L4 21.41c.39.39.9.59 1.41.59.51 0 1.02-.2 1.41-.59l7.78-7.78 2.81-2.81c.8-.78.8-2.07 0-2.86zM5.41 20L4 18.59l7.72-7.72 1.47 1.35L5.41 20z\"/>\n",
              "  </svg>\n",
              "      </button>\n",
              "      \n",
              "  <style>\n",
              "    .colab-df-container {\n",
              "      display:flex;\n",
              "      flex-wrap:wrap;\n",
              "      gap: 12px;\n",
              "    }\n",
              "\n",
              "    .colab-df-convert {\n",
              "      background-color: #E8F0FE;\n",
              "      border: none;\n",
              "      border-radius: 50%;\n",
              "      cursor: pointer;\n",
              "      display: none;\n",
              "      fill: #1967D2;\n",
              "      height: 32px;\n",
              "      padding: 0 0 0 0;\n",
              "      width: 32px;\n",
              "    }\n",
              "\n",
              "    .colab-df-convert:hover {\n",
              "      background-color: #E2EBFA;\n",
              "      box-shadow: 0px 1px 2px rgba(60, 64, 67, 0.3), 0px 1px 3px 1px rgba(60, 64, 67, 0.15);\n",
              "      fill: #174EA6;\n",
              "    }\n",
              "\n",
              "    [theme=dark] .colab-df-convert {\n",
              "      background-color: #3B4455;\n",
              "      fill: #D2E3FC;\n",
              "    }\n",
              "\n",
              "    [theme=dark] .colab-df-convert:hover {\n",
              "      background-color: #434B5C;\n",
              "      box-shadow: 0px 1px 3px 1px rgba(0, 0, 0, 0.15);\n",
              "      filter: drop-shadow(0px 1px 2px rgba(0, 0, 0, 0.3));\n",
              "      fill: #FFFFFF;\n",
              "    }\n",
              "  </style>\n",
              "\n",
              "      <script>\n",
              "        const buttonEl =\n",
              "          document.querySelector('#df-09fa81c1-9155-4959-99e0-fce76a8799de button.colab-df-convert');\n",
              "        buttonEl.style.display =\n",
              "          google.colab.kernel.accessAllowed ? 'block' : 'none';\n",
              "\n",
              "        async function convertToInteractive(key) {\n",
              "          const element = document.querySelector('#df-09fa81c1-9155-4959-99e0-fce76a8799de');\n",
              "          const dataTable =\n",
              "            await google.colab.kernel.invokeFunction('convertToInteractive',\n",
              "                                                     [key], {});\n",
              "          if (!dataTable) return;\n",
              "\n",
              "          const docLinkHtml = 'Like what you see? Visit the ' +\n",
              "            '<a target=\"_blank\" href=https://colab.research.google.com/notebooks/data_table.ipynb>data table notebook</a>'\n",
              "            + ' to learn more about interactive tables.';\n",
              "          element.innerHTML = '';\n",
              "          dataTable['output_type'] = 'display_data';\n",
              "          await google.colab.output.renderOutput(dataTable, element);\n",
              "          const docLink = document.createElement('div');\n",
              "          docLink.innerHTML = docLinkHtml;\n",
              "          element.appendChild(docLink);\n",
              "        }\n",
              "      </script>\n",
              "    </div>\n",
              "  </div>\n",
              "  "
            ]
          },
          "metadata": {},
          "execution_count": 156
        }
      ]
    },
    {
      "cell_type": "code",
      "source": [
        "data.plot(figsize = (12,6))"
      ],
      "metadata": {
        "colab": {
          "base_uri": "https://localhost:8080/",
          "height": 232
        },
        "id": "WPDxp7HzquUS",
        "outputId": "601e9ecf-b01b-406b-9d88-0ec56c582fe0"
      },
      "execution_count": null,
      "outputs": [
        {
          "output_type": "execute_result",
          "data": {
            "text/plain": [
              "<matplotlib.axes._subplots.AxesSubplot at 0x7fb298458a60>"
            ]
          },
          "metadata": {},
          "execution_count": 157
        },
        {
          "output_type": "display_data",
          "data": {
            "text/plain": [
              "<Figure size 864x432 with 1 Axes>"
            ],
            "image/png": "[encoded data removed]"
          },
          "metadata": {
            "needs_background": "light"
          }
        }
      ]
    },
    {
      "cell_type": "code",
      "source": [
        "data"
      ],
      "metadata": {
        "colab": {
          "base_uri": "https://localhost:8080/",
          "height": 455
        },
        "id": "J8pEXPJvqwwM",
        "outputId": "e3f3f225-118f-42b1-e9fb-8c5d6d1b13e2"
      },
      "execution_count": null,
      "outputs": [
        {
          "output_type": "execute_result",
          "data": {
            "text/plain": [
              "                                   Open          High           Low  \\\n",
              "Date                                                                  \n",
              "2022-06-13 00:00:00+00:00  26737.578125  26795.589844  22141.257812   \n",
              "2022-06-14 00:00:00+00:00  22487.986328  23018.951172  20950.818359   \n",
              "2022-06-15 00:00:00+00:00  22196.730469  22642.671875  20178.376953   \n",
              "2022-06-16 00:00:00+00:00  22576.304688  22868.921875  20265.226562   \n",
              "2022-06-17 00:00:00+00:00  20385.718750  21243.312500  20326.519531   \n",
              "...                                 ...           ...           ...   \n",
              "2023-01-08 00:00:00+00:00  16954.146484  17091.144531  16924.050781   \n",
              "2023-01-09 00:00:00+00:00  17093.992188  17389.957031  17093.992188   \n",
              "2023-01-10 00:00:00+00:00  17192.949219  17484.720703  17162.990234   \n",
              "2023-01-11 00:00:00+00:00  17446.359375  17934.896484  17337.994141   \n",
              "2023-01-12 00:00:00+00:00  18117.593750  19030.087891  17995.203125   \n",
              "\n",
              "                                  Close     Adj Close       Volume  \n",
              "Date                                                                \n",
              "2022-06-13 00:00:00+00:00  22487.388672  22487.388672  68204556440  \n",
              "2022-06-14 00:00:00+00:00  22206.792969  22206.792969  50913575242  \n",
              "2022-06-15 00:00:00+00:00  22572.839844  22572.839844  54912007015  \n",
              "2022-06-16 00:00:00+00:00  20381.650391  20381.650391  31183975654  \n",
              "2022-06-17 00:00:00+00:00  20471.482422  20471.482422  27132421514  \n",
              "...                                 ...           ...          ...  \n",
              "2023-01-08 00:00:00+00:00  17091.144531  17091.144531   9768827914  \n",
              "2023-01-09 00:00:00+00:00  17196.554688  17196.554688  18624736866  \n",
              "2023-01-10 00:00:00+00:00  17446.292969  17446.292969  15808338949  \n",
              "2023-01-11 00:00:00+00:00  17934.896484  17934.896484  18372283782  \n",
              "2023-01-12 00:00:00+00:00  18869.587891  18869.587891  34971338710  \n",
              "\n",
              "[214 rows x 6 columns]"
            ],
            "text/html": [
              "\n",
              "  <div id=\"df-f5dd8064-883c-4843-85a6-7a9f3dc8c092\">\n",
              "    <div class=\"colab-df-container\">\n",
              "      <div>\n",
              "<style scoped>\n",
              "    .dataframe tbody tr th:only-of-type {\n",
              "        vertical-align: middle;\n",
              "    }\n",
              "\n",
              "    .dataframe tbody tr th {\n",
              "        vertical-align: top;\n",
              "    }\n",
              "\n",
              "    .dataframe thead th {\n",
              "        text-align: right;\n",
              "    }\n",
              "</style>\n",
              "<table border=\"1\" class=\"dataframe\">\n",
              "  <thead>\n",
              "    <tr style=\"text-align: right;\">\n",
              "      <th></th>\n",
              "      <th>Open</th>\n",
              "      <th>High</th>\n",
              "      <th>Low</th>\n",
              "      <th>Close</th>\n",
              "      <th>Adj Close</th>\n",
              "      <th>Volume</th>\n",
              "    </tr>\n",
              "    <tr>\n",
              "      <th>Date</th>\n",
              "      <th></th>\n",
              "      <th></th>\n",
              "      <th></th>\n",
              "      <th></th>\n",
              "      <th></th>\n",
              "      <th></th>\n",
              "    </tr>\n",
              "  </thead>\n",
              "  <tbody>\n",
              "    <tr>\n",
              "      <th>2022-06-13 00:00:00+00:00</th>\n",
              "      <td>26737.578125</td>\n",
              "      <td>26795.589844</td>\n",
              "      <td>22141.257812</td>\n",
              "      <td>22487.388672</td>\n",
              "      <td>22487.388672</td>\n",
              "      <td>68204556440</td>\n",
              "    </tr>\n",
              "    <tr>\n",
              "      <th>2022-06-14 00:00:00+00:00</th>\n",
              "      <td>22487.986328</td>\n",
              "      <td>23018.951172</td>\n",
              "      <td>20950.818359</td>\n",
              "      <td>22206.792969</td>\n",
              "      <td>22206.792969</td>\n",
              "      <td>50913575242</td>\n",
              "    </tr>\n",
              "    <tr>\n",
              "      <th>2022-06-15 00:00:00+00:00</th>\n",
              "      <td>22196.730469</td>\n",
              "      <td>22642.671875</td>\n",
              "      <td>20178.376953</td>\n",
              "      <td>22572.839844</td>\n",
              "      <td>22572.839844</td>\n",
              "      <td>54912007015</td>\n",
              "    </tr>\n",
              "    <tr>\n",
              "      <th>2022-06-16 00:00:00+00:00</th>\n",
              "      <td>22576.304688</td>\n",
              "      <td>22868.921875</td>\n",
              "      <td>20265.226562</td>\n",
              "      <td>20381.650391</td>\n",
              "      <td>20381.650391</td>\n",
              "      <td>31183975654</td>\n",
              "    </tr>\n",
              "    <tr>\n",
              "      <th>2022-06-17 00:00:00+00:00</th>\n",
              "      <td>20385.718750</td>\n",
              "      <td>21243.312500</td>\n",
              "      <td>20326.519531</td>\n",
              "      <td>20471.482422</td>\n",
              "      <td>20471.482422</td>\n",
              "      <td>27132421514</td>\n",
              "    </tr>\n",
              "    <tr>\n",
              "      <th>...</th>\n",
              "      <td>...</td>\n",
              "      <td>...</td>\n",
              "      <td>...</td>\n",
              "      <td>...</td>\n",
              "      <td>...</td>\n",
              "      <td>...</td>\n",
              "    </tr>\n",
              "    <tr>\n",
              "      <th>2023-01-08 00:00:00+00:00</th>\n",
              "      <td>16954.146484</td>\n",
              "      <td>17091.144531</td>\n",
              "      <td>16924.050781</td>\n",
              "      <td>17091.144531</td>\n",
              "      <td>17091.144531</td>\n",
              "      <td>9768827914</td>\n",
              "    </tr>\n",
              "    <tr>\n",
              "      <th>2023-01-09 00:00:00+00:00</th>\n",
              "      <td>17093.992188</td>\n",
              "      <td>17389.957031</td>\n",
              "      <td>17093.992188</td>\n",
              "      <td>17196.554688</td>\n",
              "      <td>17196.554688</td>\n",
              "      <td>18624736866</td>\n",
              "    </tr>\n",
              "    <tr>\n",
              "      <th>2023-01-10 00:00:00+00:00</th>\n",
              "      <td>17192.949219</td>\n",
              "      <td>17484.720703</td>\n",
              "      <td>17162.990234</td>\n",
              "      <td>17446.292969</td>\n",
              "      <td>17446.292969</td>\n",
              "      <td>15808338949</td>\n",
              "    </tr>\n",
              "    <tr>\n",
              "      <th>2023-01-11 00:00:00+00:00</th>\n",
              "      <td>17446.359375</td>\n",
              "      <td>17934.896484</td>\n",
              "      <td>17337.994141</td>\n",
              "      <td>17934.896484</td>\n",
              "      <td>17934.896484</td>\n",
              "      <td>18372283782</td>\n",
              "    </tr>\n",
              "    <tr>\n",
              "      <th>2023-01-12 00:00:00+00:00</th>\n",
              "      <td>18117.593750</td>\n",
              "      <td>19030.087891</td>\n",
              "      <td>17995.203125</td>\n",
              "      <td>18869.587891</td>\n",
              "      <td>18869.587891</td>\n",
              "      <td>34971338710</td>\n",
              "    </tr>\n",
              "  </tbody>\n",
              "</table>\n",
              "<p>214 rows × 6 columns</p>\n",
              "</div>\n",
              "      <button class=\"colab-df-convert\" onclick=\"convertToInteractive('df-f5dd8064-883c-4843-85a6-7a9f3dc8c092')\"\n",
              "              title=\"Convert this dataframe to an interactive table.\"\n",
              "              style=\"display:none;\">\n",
              "        \n",
              "  <svg xmlns=\"http://www.w3.org/2000/svg\" height=\"24px\"viewBox=\"0 0 24 24\"\n",
              "       width=\"24px\">\n",
              "    <path d=\"M0 0h24v24H0V0z\" fill=\"none\"/>\n",
              "    <path d=\"M18.56 5.44l.94 2.06.94-2.06 2.06-.94-2.06-.94-.94-2.06-.94 2.06-2.06.94zm-11 1L8.5 8.5l.94-2.06 2.06-.94-2.06-.94L8.5 2.5l-.94 2.06-2.06.94zm10 10l.94 2.06.94-2.06 2.06-.94-2.06-.94-.94-2.06-.94 2.06-2.06.94z\"/><path d=\"M17.41 7.96l-1.37-1.37c-.4-.4-.92-.59-1.43-.59-.52 0-1.04.2-1.43.59L10.3 9.45l-7.72 7.72c-.78.78-.78 2.05 0 2.83L4 21.41c.39.39.9.59 1.41.59.51 0 1.02-.2 1.41-.59l7.78-7.78 2.81-2.81c.8-.78.8-2.07 0-2.86zM5.41 20L4 18.59l7.72-7.72 1.47 1.35L5.41 20z\"/>\n",
              "  </svg>\n",
              "      </button>\n",
              "      \n",
              "  <style>\n",
              "    .colab-df-container {\n",
              "      display:flex;\n",
              "      flex-wrap:wrap;\n",
              "      gap: 12px;\n",
              "    }\n",
              "\n",
              "    .colab-df-convert {\n",
              "      background-color: #E8F0FE;\n",
              "      border: none;\n",
              "      border-radius: 50%;\n",
              "      cursor: pointer;\n",
              "      display: none;\n",
              "      fill: #1967D2;\n",
              "      height: 32px;\n",
              "      padding: 0 0 0 0;\n",
              "      width: 32px;\n",
              "    }\n",
              "\n",
              "    .colab-df-convert:hover {\n",
              "      background-color: #E2EBFA;\n",
              "      box-shadow: 0px 1px 2px rgba(60, 64, 67, 0.3), 0px 1px 3px 1px rgba(60, 64, 67, 0.15);\n",
              "      fill: #174EA6;\n",
              "    }\n",
              "\n",
              "    [theme=dark] .colab-df-convert {\n",
              "      background-color: #3B4455;\n",
              "      fill: #D2E3FC;\n",
              "    }\n",
              "\n",
              "    [theme=dark] .colab-df-convert:hover {\n",
              "      background-color: #434B5C;\n",
              "      box-shadow: 0px 1px 3px 1px rgba(0, 0, 0, 0.15);\n",
              "      filter: drop-shadow(0px 1px 2px rgba(0, 0, 0, 0.3));\n",
              "      fill: #FFFFFF;\n",
              "    }\n",
              "  </style>\n",
              "\n",
              "      <script>\n",
              "        const buttonEl =\n",
              "          document.querySelector('#df-f5dd8064-883c-4843-85a6-7a9f3dc8c092 button.colab-df-convert');\n",
              "        buttonEl.style.display =\n",
              "          google.colab.kernel.accessAllowed ? 'block' : 'none';\n",
              "\n",
              "        async function convertToInteractive(key) {\n",
              "          const element = document.querySelector('#df-f5dd8064-883c-4843-85a6-7a9f3dc8c092');\n",
              "          const dataTable =\n",
              "            await google.colab.kernel.invokeFunction('convertToInteractive',\n",
              "                                                     [key], {});\n",
              "          if (!dataTable) return;\n",
              "\n",
              "          const docLinkHtml = 'Like what you see? Visit the ' +\n",
              "            '<a target=\"_blank\" href=https://colab.research.google.com/notebooks/data_table.ipynb>data table notebook</a>'\n",
              "            + ' to learn more about interactive tables.';\n",
              "          element.innerHTML = '';\n",
              "          dataTable['output_type'] = 'display_data';\n",
              "          await google.colab.output.renderOutput(dataTable, element);\n",
              "          const docLink = document.createElement('div');\n",
              "          docLink.innerHTML = docLinkHtml;\n",
              "          element.appendChild(docLink);\n",
              "        }\n",
              "      </script>\n",
              "    </div>\n",
              "  </div>\n",
              "  "
            ]
          },
          "metadata": {},
          "execution_count": 91
        }
      ]
    },
    {
      "cell_type": "code",
      "source": [
        "del data['Open']\n",
        "del data['High']\n",
        "del data['Low']\n",
        "del data['Adj Close']\n",
        "del data['Close']\n",
        "\n"
      ],
      "metadata": {
        "id": "DwXEGLZzrPOG"
      },
      "execution_count": null,
      "outputs": []
    },
    {
      "cell_type": "code",
      "source": [
        "data"
      ],
      "metadata": {
        "colab": {
          "base_uri": "https://localhost:8080/",
          "height": 455
        },
        "id": "0NKgNaOBscO5",
        "outputId": "08103a17-77cd-45c7-90b0-d8bbc2c50729"
      },
      "execution_count": null,
      "outputs": [
        {
          "output_type": "execute_result",
          "data": {
            "text/plain": [
              "                                Volume\n",
              "Date                                  \n",
              "2022-06-13 00:00:00+00:00  68204556440\n",
              "2022-06-14 00:00:00+00:00  50913575242\n",
              "2022-06-15 00:00:00+00:00  54912007015\n",
              "2022-06-16 00:00:00+00:00  31183975654\n",
              "2022-06-17 00:00:00+00:00  27132421514\n",
              "...                                ...\n",
              "2023-01-08 00:00:00+00:00   9768827914\n",
              "2023-01-09 00:00:00+00:00  18624736866\n",
              "2023-01-10 00:00:00+00:00  15808338949\n",
              "2023-01-11 00:00:00+00:00  18372283782\n",
              "2023-01-12 00:00:00+00:00  34971338710\n",
              "\n",
              "[214 rows x 1 columns]"
            ],
            "text/html": [
              "\n",
              "  <div id=\"df-6c0226d7-2f47-469b-a113-072124ef6584\">\n",
              "    <div class=\"colab-df-container\">\n",
              "      <div>\n",
              "<style scoped>\n",
              "    .dataframe tbody tr th:only-of-type {\n",
              "        vertical-align: middle;\n",
              "    }\n",
              "\n",
              "    .dataframe tbody tr th {\n",
              "        vertical-align: top;\n",
              "    }\n",
              "\n",
              "    .dataframe thead th {\n",
              "        text-align: right;\n",
              "    }\n",
              "</style>\n",
              "<table border=\"1\" class=\"dataframe\">\n",
              "  <thead>\n",
              "    <tr style=\"text-align: right;\">\n",
              "      <th></th>\n",
              "      <th>Volume</th>\n",
              "    </tr>\n",
              "    <tr>\n",
              "      <th>Date</th>\n",
              "      <th></th>\n",
              "    </tr>\n",
              "  </thead>\n",
              "  <tbody>\n",
              "    <tr>\n",
              "      <th>2022-06-13 00:00:00+00:00</th>\n",
              "      <td>68204556440</td>\n",
              "    </tr>\n",
              "    <tr>\n",
              "      <th>2022-06-14 00:00:00+00:00</th>\n",
              "      <td>50913575242</td>\n",
              "    </tr>\n",
              "    <tr>\n",
              "      <th>2022-06-15 00:00:00+00:00</th>\n",
              "      <td>54912007015</td>\n",
              "    </tr>\n",
              "    <tr>\n",
              "      <th>2022-06-16 00:00:00+00:00</th>\n",
              "      <td>31183975654</td>\n",
              "    </tr>\n",
              "    <tr>\n",
              "      <th>2022-06-17 00:00:00+00:00</th>\n",
              "      <td>27132421514</td>\n",
              "    </tr>\n",
              "    <tr>\n",
              "      <th>...</th>\n",
              "      <td>...</td>\n",
              "    </tr>\n",
              "    <tr>\n",
              "      <th>2023-01-08 00:00:00+00:00</th>\n",
              "      <td>9768827914</td>\n",
              "    </tr>\n",
              "    <tr>\n",
              "      <th>2023-01-09 00:00:00+00:00</th>\n",
              "      <td>18624736866</td>\n",
              "    </tr>\n",
              "    <tr>\n",
              "      <th>2023-01-10 00:00:00+00:00</th>\n",
              "      <td>15808338949</td>\n",
              "    </tr>\n",
              "    <tr>\n",
              "      <th>2023-01-11 00:00:00+00:00</th>\n",
              "      <td>18372283782</td>\n",
              "    </tr>\n",
              "    <tr>\n",
              "      <th>2023-01-12 00:00:00+00:00</th>\n",
              "      <td>34971338710</td>\n",
              "    </tr>\n",
              "  </tbody>\n",
              "</table>\n",
              "<p>214 rows × 1 columns</p>\n",
              "</div>\n",
              "      <button class=\"colab-df-convert\" onclick=\"convertToInteractive('df-6c0226d7-2f47-469b-a113-072124ef6584')\"\n",
              "              title=\"Convert this dataframe to an interactive table.\"\n",
              "              style=\"display:none;\">\n",
              "        \n",
              "  <svg xmlns=\"http://www.w3.org/2000/svg\" height=\"24px\"viewBox=\"0 0 24 24\"\n",
              "       width=\"24px\">\n",
              "    <path d=\"M0 0h24v24H0V0z\" fill=\"none\"/>\n",
              "    <path d=\"M18.56 5.44l.94 2.06.94-2.06 2.06-.94-2.06-.94-.94-2.06-.94 2.06-2.06.94zm-11 1L8.5 8.5l.94-2.06 2.06-.94-2.06-.94L8.5 2.5l-.94 2.06-2.06.94zm10 10l.94 2.06.94-2.06 2.06-.94-2.06-.94-.94-2.06-.94 2.06-2.06.94z\"/><path d=\"M17.41 7.96l-1.37-1.37c-.4-.4-.92-.59-1.43-.59-.52 0-1.04.2-1.43.59L10.3 9.45l-7.72 7.72c-.78.78-.78 2.05 0 2.83L4 21.41c.39.39.9.59 1.41.59.51 0 1.02-.2 1.41-.59l7.78-7.78 2.81-2.81c.8-.78.8-2.07 0-2.86zM5.41 20L4 18.59l7.72-7.72 1.47 1.35L5.41 20z\"/>\n",
              "  </svg>\n",
              "      </button>\n",
              "      \n",
              "  <style>\n",
              "    .colab-df-container {\n",
              "      display:flex;\n",
              "      flex-wrap:wrap;\n",
              "      gap: 12px;\n",
              "    }\n",
              "\n",
              "    .colab-df-convert {\n",
              "      background-color: #E8F0FE;\n",
              "      border: none;\n",
              "      border-radius: 50%;\n",
              "      cursor: pointer;\n",
              "      display: none;\n",
              "      fill: #1967D2;\n",
              "      height: 32px;\n",
              "      padding: 0 0 0 0;\n",
              "      width: 32px;\n",
              "    }\n",
              "\n",
              "    .colab-df-convert:hover {\n",
              "      background-color: #E2EBFA;\n",
              "      box-shadow: 0px 1px 2px rgba(60, 64, 67, 0.3), 0px 1px 3px 1px rgba(60, 64, 67, 0.15);\n",
              "      fill: #174EA6;\n",
              "    }\n",
              "\n",
              "    [theme=dark] .colab-df-convert {\n",
              "      background-color: #3B4455;\n",
              "      fill: #D2E3FC;\n",
              "    }\n",
              "\n",
              "    [theme=dark] .colab-df-convert:hover {\n",
              "      background-color: #434B5C;\n",
              "      box-shadow: 0px 1px 3px 1px rgba(0, 0, 0, 0.15);\n",
              "      filter: drop-shadow(0px 1px 2px rgba(0, 0, 0, 0.3));\n",
              "      fill: #FFFFFF;\n",
              "    }\n",
              "  </style>\n",
              "\n",
              "      <script>\n",
              "        const buttonEl =\n",
              "          document.querySelector('#df-6c0226d7-2f47-469b-a113-072124ef6584 button.colab-df-convert');\n",
              "        buttonEl.style.display =\n",
              "          google.colab.kernel.accessAllowed ? 'block' : 'none';\n",
              "\n",
              "        async function convertToInteractive(key) {\n",
              "          const element = document.querySelector('#df-6c0226d7-2f47-469b-a113-072124ef6584');\n",
              "          const dataTable =\n",
              "            await google.colab.kernel.invokeFunction('convertToInteractive',\n",
              "                                                     [key], {});\n",
              "          if (!dataTable) return;\n",
              "\n",
              "          const docLinkHtml = 'Like what you see? Visit the ' +\n",
              "            '<a target=\"_blank\" href=https://colab.research.google.com/notebooks/data_table.ipynb>data table notebook</a>'\n",
              "            + ' to learn more about interactive tables.';\n",
              "          element.innerHTML = '';\n",
              "          dataTable['output_type'] = 'display_data';\n",
              "          await google.colab.output.renderOutput(dataTable, element);\n",
              "          const docLink = document.createElement('div');\n",
              "          docLink.innerHTML = docLinkHtml;\n",
              "          element.appendChild(docLink);\n",
              "        }\n",
              "      </script>\n",
              "    </div>\n",
              "  </div>\n",
              "  "
            ]
          },
          "metadata": {},
          "execution_count": 93
        }
      ]
    },
    {
      "cell_type": "code",
      "source": [
        "data['Volume'].plot()"
      ],
      "metadata": {
        "colab": {
          "base_uri": "https://localhost:8080/",
          "height": 320
        },
        "id": "q4yJ0QbEspJv",
        "outputId": "a1616171-df9e-49a5-c74e-1c7c60d9f5ce"
      },
      "execution_count": null,
      "outputs": [
        {
          "output_type": "execute_result",
          "data": {
            "text/plain": [
              "<matplotlib.axes._subplots.AxesSubplot at 0x7fb230b7ee80>"
            ]
          },
          "metadata": {},
          "execution_count": 94
        },
        {
          "output_type": "display_data",
          "data": {
            "text/plain": [
              "<Figure size 432x288 with 1 Axes>"
            ],
            "image/png": "[encoded data removed]"
          },
          "metadata": {
            "needs_background": "light"
          }
        }
      ]
    },
    {
      "cell_type": "code",
      "source": [
        "from statsmodels.tsa.seasonal import seasonal_decompose"
      ],
      "metadata": {
        "id": "4vVZq4WFsybc"
      },
      "execution_count": null,
      "outputs": []
    },
    {
      "cell_type": "code",
      "source": [
        "results = seasonal_decompose(data['Volume'])\n",
        "results.plot()"
      ],
      "metadata": {
        "colab": {
          "base_uri": "https://localhost:8080/",
          "height": 577
        },
        "id": "MKVusuEms1jN",
        "outputId": "bc84aadc-a6a3-4602-fc70-9da43802834b"
      },
      "execution_count": null,
      "outputs": [
        {
          "output_type": "execute_result",
          "data": {
            "text/plain": [
              "<Figure size 432x288 with 4 Axes>"
            ],
            "image/png": "[encoded data removed]"
          },
          "metadata": {},
          "execution_count": 96
        },
        {
          "output_type": "display_data",
          "data": {
            "text/plain": [
              "<Figure size 432x288 with 4 Axes>"
            ],
            "image/png": "[encoded data removed]"
          },
          "metadata": {
            "needs_background": "light"
          }
        }
      ]
    },
    {
      "cell_type": "code",
      "source": [
        "# Currently NN donot need stationaary data. They have grown more advance "
      ],
      "metadata": {
        "id": "Gug4awtNs4om"
      },
      "execution_count": null,
      "outputs": []
    },
    {
      "cell_type": "code",
      "source": [
        "len(data)"
      ],
      "metadata": {
        "colab": {
          "base_uri": "https://localhost:8080/"
        },
        "id": "SwlUgZ3rs71i",
        "outputId": "fbfe35a8-a611-437d-b4aa-d8051ba0ce8b"
      },
      "execution_count": null,
      "outputs": [
        {
          "output_type": "execute_result",
          "data": {
            "text/plain": [
              "214"
            ]
          },
          "metadata": {},
          "execution_count": 98
        }
      ]
    },
    {
      "cell_type": "code",
      "source": [
        "# Training the Model\n",
        "# Keeping the data observed 30 days before the current into the Training set and\n",
        "# Leaving the rest of the 30 days data as a testing set."
      ],
      "metadata": {
        "id": "3vBOk3OBs-W3"
      },
      "execution_count": null,
      "outputs": []
    },
    {
      "cell_type": "code",
      "source": [
        "training_set = data.iloc[:184]\n",
        "testing_set = data.iloc[184:]"
      ],
      "metadata": {
        "id": "YQmlV25OtAhg"
      },
      "execution_count": null,
      "outputs": []
    },
    {
      "cell_type": "code",
      "source": [
        "from sklearn.preprocessing import MinMaxScaler\n",
        "scaler = MinMaxScaler\n",
        "# Minmaxscaler to Process the data into a scale of  0 to 1"
      ],
      "metadata": {
        "id": "-XYNr_jatCyG"
      },
      "execution_count": null,
      "outputs": []
    },
    {
      "cell_type": "code",
      "source": [
        "data.head(),data.tail()"
      ],
      "metadata": {
        "colab": {
          "base_uri": "https://localhost:8080/"
        },
        "id": "RLVuFAR_tFSG",
        "outputId": "440eca21-cdda-4e64-f373-2187a6983b50"
      },
      "execution_count": null,
      "outputs": [
        {
          "output_type": "execute_result",
          "data": {
            "text/plain": [
              "(                                Volume\n",
              " Date                                  \n",
              " 2022-06-13 00:00:00+00:00  68204556440\n",
              " 2022-06-14 00:00:00+00:00  50913575242\n",
              " 2022-06-15 00:00:00+00:00  54912007015\n",
              " 2022-06-16 00:00:00+00:00  31183975654\n",
              " 2022-06-17 00:00:00+00:00  27132421514,                                 Volume\n",
              " Date                                  \n",
              " 2023-01-08 00:00:00+00:00   9768827914\n",
              " 2023-01-09 00:00:00+00:00  18624736866\n",
              " 2023-01-10 00:00:00+00:00  15808338949\n",
              " 2023-01-11 00:00:00+00:00  18372283782\n",
              " 2023-01-12 00:00:00+00:00  34971338710)"
            ]
          },
          "metadata": {},
          "execution_count": 102
        }
      ]
    },
    {
      "cell_type": "code",
      "source": [
        "# It prints the first five values and last two values. \n",
        "# we dont want the model to get confused because of different magnitude\n"
      ],
      "metadata": {
        "id": "eaJS4-4ltIVK"
      },
      "execution_count": null,
      "outputs": []
    },
    {
      "cell_type": "code",
      "source": [
        "scaler = MinMaxScaler()\n",
        "scaler.fit(training_set)\n",
        "scaled_train = scaler.transform(training_set)\n",
        "scaled_test = scaler.transform(testing_set)"
      ],
      "metadata": {
        "id": "VzopPo_CtOQo"
      },
      "execution_count": null,
      "outputs": []
    },
    {
      "cell_type": "code",
      "source": [
        "scaled_train[:10]"
      ],
      "metadata": {
        "colab": {
          "base_uri": "https://localhost:8080/"
        },
        "id": "IiWvoouL5Ie3",
        "outputId": "c920db35-9ec1-43fb-c980-e79e8d8ad8c8"
      },
      "execution_count": null,
      "outputs": [
        {
          "output_type": "execute_result",
          "data": {
            "text/plain": [
              "array([[0.52215663],\n",
              "       [0.35947262],\n",
              "       [0.39709229],\n",
              "       [0.17384461],\n",
              "       [0.13572514],\n",
              "       [0.2756971 ],\n",
              "       [0.21285238],\n",
              "       [0.17040561],\n",
              "       [0.15301619],\n",
              "       [0.14929585]])"
            ]
          },
          "metadata": {},
          "execution_count": 105
        }
      ]
    },
    {
      "cell_type": "code",
      "source": [
        "# to feed the network a sequence of data. Using that it will give me the value for the next month\n",
        "# we need to create batches like this one to train NN\n"
      ],
      "metadata": {
        "id": "3m8932t85Ui-"
      },
      "execution_count": null,
      "outputs": []
    },
    {
      "cell_type": "code",
      "execution_count": null,
      "metadata": {
        "id": "bjZOchjQptix"
      },
      "outputs": [],
      "source": [
        "from keras.preprocessing.sequence import TimeseriesGenerator\n"
      ]
    },
    {
      "cell_type": "code",
      "source": [
        "# define Generator\n",
        "number_input = 3 #no of months\n",
        "number_features = 1 # no of time series data\n",
        "generator = TimeseriesGenerator(scaled_train, scaled_train, length = number_input,batch_size = 1)"
      ],
      "metadata": {
        "id": "J0JCh9c1qA5x"
      },
      "execution_count": null,
      "outputs": []
    },
    {
      "cell_type": "code",
      "source": [
        "x,y = generator[0]\n",
        "print(f'The given Array: \\n{x.flatten()}')\n",
        "print(f'Predict this y: \\n{y}')"
      ],
      "metadata": {
        "colab": {
          "base_uri": "https://localhost:8080/"
        },
        "id": "SbBy3VqoqBB6",
        "outputId": "538aa49c-2326-41ce-8de3-1bf899c0cd78"
      },
      "execution_count": null,
      "outputs": [
        {
          "output_type": "stream",
          "name": "stdout",
          "text": [
            "The given Array: \n",
            "[0.52215663 0.35947262 0.39709229]\n",
            "Predict this y: \n",
            "[[0.17384461]]\n"
          ]
        }
      ]
    },
    {
      "cell_type": "code",
      "source": [
        "x.shape"
      ],
      "metadata": {
        "colab": {
          "base_uri": "https://localhost:8080/"
        },
        "id": "a2I6xwSG2LxY",
        "outputId": "afa2089e-34f2-42de-acee-41998b9b3baa"
      },
      "execution_count": null,
      "outputs": [
        {
          "output_type": "execute_result",
          "data": {
            "text/plain": [
              "(1, 3, 1)"
            ]
          },
          "metadata": {},
          "execution_count": 110
        }
      ]
    },
    {
      "cell_type": "markdown",
      "source": [
        "Importing a library thas not in Colab\n",
        "!pip install matplot"
      ],
      "metadata": {
        "id": "zL44FNMn2MU6"
      }
    },
    {
      "cell_type": "code",
      "source": [
        "number_input = 30\n",
        "generator = TimeseriesGenerator(scaled_train, scaled_train, length = number_input,batch_size = 1)"
      ],
      "metadata": {
        "id": "4JKVdGFMqBIN"
      },
      "execution_count": null,
      "outputs": []
    },
    {
      "cell_type": "code",
      "source": [
        "from keras.models import Sequential\n",
        "from keras.layers import Dense\n",
        "from keras.layers import LSTM"
      ],
      "metadata": {
        "id": "bqIsDsEH7Mb_"
      },
      "execution_count": null,
      "outputs": []
    },
    {
      "cell_type": "code",
      "source": [
        "# The part where we are actually creating a model\n",
        "# LSTM with 100 neurons and relu as the activation function, specified the input shape of the data\n",
        "# Final output layer, which will make the final prediction\n",
        "# we will compile the model using the adam function and mse as the loss function\n"
      ],
      "metadata": {
        "id": "z4Kcvhwr7Meq"
      },
      "execution_count": null,
      "outputs": []
    },
    {
      "cell_type": "code",
      "source": [],
      "metadata": {
        "id": "vUXzXTdSHOeu"
      },
      "execution_count": null,
      "outputs": []
    },
    {
      "cell_type": "code",
      "source": [
        "model = Sequential() # The reason using sequential is to keep adding the layers to the sequence\n",
        "model.add(LSTM(100, activation = 'relu', input_shape= (number_input,number_features)))\n",
        "model.add(Dense(1))\n",
        "model.compile(optimizer = 'adam', loss = 'mse')"
      ],
      "metadata": {
        "id": "B96vy8Nu7Mgv"
      },
      "execution_count": null,
      "outputs": []
    },
    {
      "cell_type": "code",
      "source": [
        "model.summary()"
      ],
      "metadata": {
        "colab": {
          "base_uri": "https://localhost:8080/"
        },
        "id": "vq3u0TIoGYt6",
        "outputId": "79b2c59c-9673-4758-aaf7-8e179168b703"
      },
      "execution_count": null,
      "outputs": [
        {
          "output_type": "stream",
          "name": "stdout",
          "text": [
            "Model: \"sequential_2\"\n",
            "_________________________________________________________________\n",
            " Layer (type)                Output Shape              Param #   \n",
            "=================================================================\n",
            " lstm_2 (LSTM)               (None, 100)               40800     \n",
            "                                                                 \n",
            " dense_2 (Dense)             (None, 1)                 101       \n",
            "                                                                 \n",
            "=================================================================\n",
            "Total params: 40,901\n",
            "Trainable params: 40,901\n",
            "Non-trainable params: 0\n",
            "_________________________________________________________________\n"
          ]
        }
      ]
    },
    {
      "cell_type": "code",
      "source": [
        "#Training the  model\n",
        "model.fit(generator, epochs = 50)# Fit the model by calling the generator which has the input and output to train the model"
      ],
      "metadata": {
        "colab": {
          "base_uri": "https://localhost:8080/"
        },
        "id": "vxL3sUO4HPgK",
        "outputId": "6f61b9cd-4a26-48cd-e933-81429edb9430"
      },
      "execution_count": null,
      "outputs": [
        {
          "output_type": "stream",
          "name": "stdout",
          "text": [
            "Epoch 1/50\n",
            "154/154 [==============================] - 2s 15ms/step - loss: 0.0082\n",
            "Epoch 2/50\n",
            "154/154 [==============================] - 2s 15ms/step - loss: 0.0077\n",
            "Epoch 3/50\n",
            "154/154 [==============================] - 2s 15ms/step - loss: 0.0076\n",
            "Epoch 4/50\n",
            "154/154 [==============================] - 2s 15ms/step - loss: 0.0078\n",
            "Epoch 5/50\n",
            "154/154 [==============================] - 2s 15ms/step - loss: 0.0080\n",
            "Epoch 6/50\n",
            "154/154 [==============================] - 2s 14ms/step - loss: 0.0082\n",
            "Epoch 7/50\n",
            "154/154 [==============================] - 2s 14ms/step - loss: 0.0075\n",
            "Epoch 8/50\n",
            "154/154 [==============================] - 2s 15ms/step - loss: 0.0077\n",
            "Epoch 9/50\n",
            "154/154 [==============================] - 3s 16ms/step - loss: 0.0072\n",
            "Epoch 10/50\n",
            "154/154 [==============================] - 4s 26ms/step - loss: 0.0078\n",
            "Epoch 11/50\n",
            "154/154 [==============================] - 4s 26ms/step - loss: 0.0076\n",
            "Epoch 12/50\n",
            "154/154 [==============================] - 2s 15ms/step - loss: 0.0076\n",
            "Epoch 13/50\n",
            "154/154 [==============================] - 2s 14ms/step - loss: 0.0072\n",
            "Epoch 14/50\n",
            "154/154 [==============================] - 2s 15ms/step - loss: 0.0071\n",
            "Epoch 15/50\n",
            "154/154 [==============================] - 2s 15ms/step - loss: 0.0078\n",
            "Epoch 16/50\n",
            "154/154 [==============================] - 2s 14ms/step - loss: 0.0089\n",
            "Epoch 17/50\n",
            "154/154 [==============================] - 2s 15ms/step - loss: 0.0074\n",
            "Epoch 18/50\n",
            "154/154 [==============================] - 2s 15ms/step - loss: 0.0073\n",
            "Epoch 19/50\n",
            "154/154 [==============================] - 2s 14ms/step - loss: 0.0070\n",
            "Epoch 20/50\n",
            "154/154 [==============================] - 3s 20ms/step - loss: 0.0067\n",
            "Epoch 21/50\n",
            "154/154 [==============================] - 4s 28ms/step - loss: 0.0076\n",
            "Epoch 22/50\n",
            "154/154 [==============================] - 3s 20ms/step - loss: 0.0071\n",
            "Epoch 23/50\n",
            "154/154 [==============================] - 2s 14ms/step - loss: 0.0069\n",
            "Epoch 24/50\n",
            "154/154 [==============================] - 2s 15ms/step - loss: 0.0066\n",
            "Epoch 25/50\n",
            "154/154 [==============================] - 2s 14ms/step - loss: 0.0070\n",
            "Epoch 26/50\n",
            "154/154 [==============================] - 2s 14ms/step - loss: 0.0063\n",
            "Epoch 27/50\n",
            "154/154 [==============================] - 2s 14ms/step - loss: 0.0066\n",
            "Epoch 28/50\n",
            "154/154 [==============================] - 2s 14ms/step - loss: 0.0063\n",
            "Epoch 29/50\n",
            "154/154 [==============================] - 2s 14ms/step - loss: 0.0065\n",
            "Epoch 30/50\n",
            "154/154 [==============================] - 2s 15ms/step - loss: 0.0070\n",
            "Epoch 31/50\n",
            "154/154 [==============================] - 2s 16ms/step - loss: 0.0067\n",
            "Epoch 32/50\n",
            "154/154 [==============================] - 5s 30ms/step - loss: 0.0058\n",
            "Epoch 33/50\n",
            "154/154 [==============================] - 5s 30ms/step - loss: 0.0060\n",
            "Epoch 34/50\n",
            "154/154 [==============================] - 5s 34ms/step - loss: 0.0058\n",
            "Epoch 35/50\n",
            "154/154 [==============================] - 2s 15ms/step - loss: 0.0080\n",
            "Epoch 36/50\n",
            "154/154 [==============================] - 2s 15ms/step - loss: 0.0066\n",
            "Epoch 37/50\n",
            "154/154 [==============================] - 2s 14ms/step - loss: 0.0060\n",
            "Epoch 38/50\n",
            "154/154 [==============================] - 2s 15ms/step - loss: 0.0056\n",
            "Epoch 39/50\n",
            "154/154 [==============================] - 2s 15ms/step - loss: 0.0057\n",
            "Epoch 40/50\n",
            "154/154 [==============================] - 2s 15ms/step - loss: 0.0050\n",
            "Epoch 41/50\n",
            "154/154 [==============================] - 2s 16ms/step - loss: 0.0053\n",
            "Epoch 42/50\n",
            "154/154 [==============================] - 4s 29ms/step - loss: 0.0053\n",
            "Epoch 43/50\n",
            "154/154 [==============================] - 4s 28ms/step - loss: 0.0049\n",
            "Epoch 44/50\n",
            "154/154 [==============================] - 3s 20ms/step - loss: 0.0049\n",
            "Epoch 45/50\n",
            "154/154 [==============================] - 2s 14ms/step - loss: 0.0047\n",
            "Epoch 46/50\n",
            "154/154 [==============================] - 2s 14ms/step - loss: 0.0050\n",
            "Epoch 47/50\n",
            "154/154 [==============================] - 2s 15ms/step - loss: 0.0048\n",
            "Epoch 48/50\n",
            "154/154 [==============================] - 2s 14ms/step - loss: 0.0045\n",
            "Epoch 49/50\n",
            "154/154 [==============================] - 2s 15ms/step - loss: 0.0046\n",
            "Epoch 50/50\n",
            "154/154 [==============================] - 2s 14ms/step - loss: 0.0047\n"
          ]
        },
        {
          "output_type": "execute_result",
          "data": {
            "text/plain": [
              "<keras.callbacks.History at 0x7fb29828c9a0>"
            ]
          },
          "metadata": {},
          "execution_count": 158
        }
      ]
    },
    {
      "cell_type": "code",
      "source": [
        "loss_per_epoch = model.history.history['loss']# plotting los per epoch which the model has been storing in each epoch\n",
        "plt.plot(range(len(loss_per_epoch)),loss_per_epoch) # Plotting the loss epoch and the loss seems to be decreasing"
      ],
      "metadata": {
        "colab": {
          "base_uri": "https://localhost:8080/",
          "height": 283
        },
        "id": "6yCH6zoUHcge",
        "outputId": "6ecf1ebd-24d4-4b13-a23c-9fb7d624a0f0"
      },
      "execution_count": null,
      "outputs": [
        {
          "output_type": "execute_result",
          "data": {
            "text/plain": [
              "[<matplotlib.lines.Line2D at 0x7fb29849fdc0>]"
            ]
          },
          "metadata": {},
          "execution_count": 138
        },
        {
          "output_type": "display_data",
          "data": {
            "text/plain": [
              "<Figure size 432x288 with 1 Axes>"
            ],
            "image/png": "[encoded data removed]"
          },
          "metadata": {
            "needs_background": "light"
          }
        }
      ]
    },
    {
      "cell_type": "code",
      "source": [
        "last_train_batch = scaled_train[-30:]# taking the last 30 days value in my training set to make the prediction for the first  value in the test set"
      ],
      "metadata": {
        "id": "BlcB73m7Ic2w"
      },
      "execution_count": null,
      "outputs": []
    },
    {
      "cell_type": "code",
      "source": [
        "last_train_batch = last_train_batch.reshape(1,number_input, number_features)#  reshaping as earlier shape"
      ],
      "metadata": {
        "id": "5kc4VJuGIc5t"
      },
      "execution_count": null,
      "outputs": []
    },
    {
      "cell_type": "code",
      "source": [
        "model.predict(last_train_batch)# it will make the prediction for the first value of the testing set"
      ],
      "metadata": {
        "colab": {
          "base_uri": "https://localhost:8080/"
        },
        "id": "hYNlYaxJIc8W",
        "outputId": "7db1df68-209b-46f3-c2da-7042fae78c18"
      },
      "execution_count": null,
      "outputs": [
        {
          "output_type": "stream",
          "name": "stdout",
          "text": [
            "1/1 [==============================] - 0s 243ms/step\n"
          ]
        },
        {
          "output_type": "execute_result",
          "data": {
            "text/plain": [
              "array([[0.13359667]], dtype=float32)"
            ]
          },
          "metadata": {},
          "execution_count": 120
        }
      ]
    },
    {
      "cell_type": "code",
      "source": [
        "scaled_test[0] # Checking what was the original value and  comparing the difference on how close the  predicted value is from the org data"
      ],
      "metadata": {
        "colab": {
          "base_uri": "https://localhost:8080/"
        },
        "id": "uDl_4JUBIc_N",
        "outputId": "b6bceb7a-fcff-4bd6-8a19-ed95c5b3b85f"
      },
      "execution_count": null,
      "outputs": [
        {
          "output_type": "execute_result",
          "data": {
            "text/plain": [
              "array([0.12069076])"
            ]
          },
          "metadata": {},
          "execution_count": 141
        }
      ]
    },
    {
      "cell_type": "code",
      "source": [
        "test_predictions = []\n",
        "first_eval_batch = scaled_train[-number_input:]\n",
        "current_batch = first_eval_batch.reshape((1,number_input, number_features))\n",
        "for i in range(len(testing_set)):\n",
        "  current_pred = model.predict(current_batch)[0] #Get the prediction value for the first batch\n",
        "  test_predictions.append(current_pred)# Append the prediction into the array\n",
        "  current_batch = np.append(current_batch[:,1:,:],[[current_pred]],axis=1)# use the prediction to update the batch and dropping the first value\n"
      ],
      "metadata": {
        "colab": {
          "base_uri": "https://localhost:8080/"
        },
        "id": "IKC0cG63IdC1",
        "outputId": "0eea07e7-69c4-44e1-dae9-3b5933a4f42e"
      },
      "execution_count": null,
      "outputs": [
        {
          "output_type": "stream",
          "name": "stdout",
          "text": [
            "1/1 [==============================] - 0s 186ms/step\n",
            "1/1 [==============================] - 0s 22ms/step\n",
            "1/1 [==============================] - 0s 19ms/step\n",
            "1/1 [==============================] - 0s 23ms/step\n",
            "1/1 [==============================] - 0s 22ms/step\n",
            "1/1 [==============================] - 0s 20ms/step\n",
            "1/1 [==============================] - 0s 21ms/step\n",
            "1/1 [==============================] - 0s 21ms/step\n",
            "1/1 [==============================] - 0s 25ms/step\n",
            "1/1 [==============================] - 0s 22ms/step\n",
            "1/1 [==============================] - 0s 23ms/step\n",
            "1/1 [==============================] - 0s 32ms/step\n",
            "1/1 [==============================] - 0s 21ms/step\n",
            "1/1 [==============================] - 0s 21ms/step\n",
            "1/1 [==============================] - 0s 37ms/step\n",
            "1/1 [==============================] - 0s 21ms/step\n",
            "1/1 [==============================] - 0s 22ms/step\n",
            "1/1 [==============================] - 0s 23ms/step\n",
            "1/1 [==============================] - 0s 23ms/step\n",
            "1/1 [==============================] - 0s 25ms/step\n",
            "1/1 [==============================] - 0s 33ms/step\n",
            "1/1 [==============================] - 0s 24ms/step\n",
            "1/1 [==============================] - 0s 22ms/step\n",
            "1/1 [==============================] - 0s 25ms/step\n",
            "1/1 [==============================] - 0s 26ms/step\n",
            "1/1 [==============================] - 0s 21ms/step\n",
            "1/1 [==============================] - 0s 20ms/step\n",
            "1/1 [==============================] - 0s 22ms/step\n",
            "1/1 [==============================] - 0s 26ms/step\n",
            "1/1 [==============================] - 0s 21ms/step\n"
          ]
        }
      ]
    },
    {
      "cell_type": "code",
      "source": [
        "test_predictions"
      ],
      "metadata": {
        "colab": {
          "base_uri": "https://localhost:8080/"
        },
        "id": "YvovrJ0mK6MU",
        "outputId": "1ccfc64f-723a-4782-bad8-9731dbec7822"
      },
      "execution_count": null,
      "outputs": [
        {
          "output_type": "execute_result",
          "data": {
            "text/plain": [
              "[array([0.12776527], dtype=float32),\n",
              " array([0.11292642], dtype=float32),\n",
              " array([0.09572081], dtype=float32),\n",
              " array([0.08780727], dtype=float32),\n",
              " array([0.09068292], dtype=float32),\n",
              " array([0.09880655], dtype=float32),\n",
              " array([0.1054147], dtype=float32),\n",
              " array([0.10760756], dtype=float32),\n",
              " array([0.1067221], dtype=float32),\n",
              " array([0.10528798], dtype=float32),\n",
              " array([0.10537571], dtype=float32),\n",
              " array([0.10713807], dtype=float32),\n",
              " array([0.10964407], dtype=float32),\n",
              " array([0.11193223], dtype=float32),\n",
              " array([0.11363067], dtype=float32),\n",
              " array([0.11488353], dtype=float32),\n",
              " array([0.11597829], dtype=float32),\n",
              " array([0.11707585], dtype=float32),\n",
              " array([0.11829085], dtype=float32),\n",
              " array([0.11960588], dtype=float32),\n",
              " array([0.12095203], dtype=float32),\n",
              " array([0.12217416], dtype=float32),\n",
              " array([0.12310698], dtype=float32),\n",
              " array([0.12390432], dtype=float32),\n",
              " array([0.12465732], dtype=float32),\n",
              " array([0.1254352], dtype=float32),\n",
              " array([0.12633978], dtype=float32),\n",
              " array([0.12749134], dtype=float32),\n",
              " array([0.12862688], dtype=float32),\n",
              " array([0.12943923], dtype=float32)]"
            ]
          },
          "metadata": {},
          "execution_count": 143
        }
      ]
    },
    {
      "cell_type": "code",
      "source": [
        "data.head()"
      ],
      "metadata": {
        "colab": {
          "base_uri": "https://localhost:8080/",
          "height": 238
        },
        "id": "4T8knQSaLaM-",
        "outputId": "6ba4f4bd-2d3d-4f26-8456-e30fe8c2b354"
      },
      "execution_count": null,
      "outputs": [
        {
          "output_type": "execute_result",
          "data": {
            "text/plain": [
              "                                Volume\n",
              "Date                                  \n",
              "2022-06-13 00:00:00+00:00  68204556440\n",
              "2022-06-14 00:00:00+00:00  50913575242\n",
              "2022-06-15 00:00:00+00:00  54912007015\n",
              "2022-06-16 00:00:00+00:00  31183975654\n",
              "2022-06-17 00:00:00+00:00  27132421514"
            ],
            "text/html": [
              "\n",
              "  <div id=\"df-0820d2eb-fb16-461e-967a-4aab6974906a\">\n",
              "    <div class=\"colab-df-container\">\n",
              "      <div>\n",
              "<style scoped>\n",
              "    .dataframe tbody tr th:only-of-type {\n",
              "        vertical-align: middle;\n",
              "    }\n",
              "\n",
              "    .dataframe tbody tr th {\n",
              "        vertical-align: top;\n",
              "    }\n",
              "\n",
              "    .dataframe thead th {\n",
              "        text-align: right;\n",
              "    }\n",
              "</style>\n",
              "<table border=\"1\" class=\"dataframe\">\n",
              "  <thead>\n",
              "    <tr style=\"text-align: right;\">\n",
              "      <th></th>\n",
              "      <th>Volume</th>\n",
              "    </tr>\n",
              "    <tr>\n",
              "      <th>Date</th>\n",
              "      <th></th>\n",
              "    </tr>\n",
              "  </thead>\n",
              "  <tbody>\n",
              "    <tr>\n",
              "      <th>2022-06-13 00:00:00+00:00</th>\n",
              "      <td>68204556440</td>\n",
              "    </tr>\n",
              "    <tr>\n",
              "      <th>2022-06-14 00:00:00+00:00</th>\n",
              "      <td>50913575242</td>\n",
              "    </tr>\n",
              "    <tr>\n",
              "      <th>2022-06-15 00:00:00+00:00</th>\n",
              "      <td>54912007015</td>\n",
              "    </tr>\n",
              "    <tr>\n",
              "      <th>2022-06-16 00:00:00+00:00</th>\n",
              "      <td>31183975654</td>\n",
              "    </tr>\n",
              "    <tr>\n",
              "      <th>2022-06-17 00:00:00+00:00</th>\n",
              "      <td>27132421514</td>\n",
              "    </tr>\n",
              "  </tbody>\n",
              "</table>\n",
              "</div>\n",
              "      <button class=\"colab-df-convert\" onclick=\"convertToInteractive('df-0820d2eb-fb16-461e-967a-4aab6974906a')\"\n",
              "              title=\"Convert this dataframe to an interactive table.\"\n",
              "              style=\"display:none;\">\n",
              "        \n",
              "  <svg xmlns=\"http://www.w3.org/2000/svg\" height=\"24px\"viewBox=\"0 0 24 24\"\n",
              "       width=\"24px\">\n",
              "    <path d=\"M0 0h24v24H0V0z\" fill=\"none\"/>\n",
              "    <path d=\"M18.56 5.44l.94 2.06.94-2.06 2.06-.94-2.06-.94-.94-2.06-.94 2.06-2.06.94zm-11 1L8.5 8.5l.94-2.06 2.06-.94-2.06-.94L8.5 2.5l-.94 2.06-2.06.94zm10 10l.94 2.06.94-2.06 2.06-.94-2.06-.94-.94-2.06-.94 2.06-2.06.94z\"/><path d=\"M17.41 7.96l-1.37-1.37c-.4-.4-.92-.59-1.43-.59-.52 0-1.04.2-1.43.59L10.3 9.45l-7.72 7.72c-.78.78-.78 2.05 0 2.83L4 21.41c.39.39.9.59 1.41.59.51 0 1.02-.2 1.41-.59l7.78-7.78 2.81-2.81c.8-.78.8-2.07 0-2.86zM5.41 20L4 18.59l7.72-7.72 1.47 1.35L5.41 20z\"/>\n",
              "  </svg>\n",
              "      </button>\n",
              "      \n",
              "  <style>\n",
              "    .colab-df-container {\n",
              "      display:flex;\n",
              "      flex-wrap:wrap;\n",
              "      gap: 12px;\n",
              "    }\n",
              "\n",
              "    .colab-df-convert {\n",
              "      background-color: #E8F0FE;\n",
              "      border: none;\n",
              "      border-radius: 50%;\n",
              "      cursor: pointer;\n",
              "      display: none;\n",
              "      fill: #1967D2;\n",
              "      height: 32px;\n",
              "      padding: 0 0 0 0;\n",
              "      width: 32px;\n",
              "    }\n",
              "\n",
              "    .colab-df-convert:hover {\n",
              "      background-color: #E2EBFA;\n",
              "      box-shadow: 0px 1px 2px rgba(60, 64, 67, 0.3), 0px 1px 3px 1px rgba(60, 64, 67, 0.15);\n",
              "      fill: #174EA6;\n",
              "    }\n",
              "\n",
              "    [theme=dark] .colab-df-convert {\n",
              "      background-color: #3B4455;\n",
              "      fill: #D2E3FC;\n",
              "    }\n",
              "\n",
              "    [theme=dark] .colab-df-convert:hover {\n",
              "      background-color: #434B5C;\n",
              "      box-shadow: 0px 1px 3px 1px rgba(0, 0, 0, 0.15);\n",
              "      filter: drop-shadow(0px 1px 2px rgba(0, 0, 0, 0.3));\n",
              "      fill: #FFFFFF;\n",
              "    }\n",
              "  </style>\n",
              "\n",
              "      <script>\n",
              "        const buttonEl =\n",
              "          document.querySelector('#df-0820d2eb-fb16-461e-967a-4aab6974906a button.colab-df-convert');\n",
              "        buttonEl.style.display =\n",
              "          google.colab.kernel.accessAllowed ? 'block' : 'none';\n",
              "\n",
              "        async function convertToInteractive(key) {\n",
              "          const element = document.querySelector('#df-0820d2eb-fb16-461e-967a-4aab6974906a');\n",
              "          const dataTable =\n",
              "            await google.colab.kernel.invokeFunction('convertToInteractive',\n",
              "                                                     [key], {});\n",
              "          if (!dataTable) return;\n",
              "\n",
              "          const docLinkHtml = 'Like what you see? Visit the ' +\n",
              "            '<a target=\"_blank\" href=https://colab.research.google.com/notebooks/data_table.ipynb>data table notebook</a>'\n",
              "            + ' to learn more about interactive tables.';\n",
              "          element.innerHTML = '';\n",
              "          dataTable['output_type'] = 'display_data';\n",
              "          await google.colab.output.renderOutput(dataTable, element);\n",
              "          const docLink = document.createElement('div');\n",
              "          docLink.innerHTML = docLinkHtml;\n",
              "          element.appendChild(docLink);\n",
              "        }\n",
              "      </script>\n",
              "    </div>\n",
              "  </div>\n",
              "  "
            ]
          },
          "metadata": {},
          "execution_count": 146
        }
      ]
    },
    {
      "cell_type": "code",
      "source": [
        "true_predictions = scaler.inverse_transform(test_predictions)  # Perfroming the inverse scale to the range of Original data Set values."
      ],
      "metadata": {
        "id": "BpH_DKnNLteb"
      },
      "execution_count": null,
      "outputs": []
    },
    {
      "cell_type": "code",
      "source": [
        "\n",
        "testing_set['Predictions'] = true_predictions"
      ],
      "metadata": {
        "colab": {
          "base_uri": "https://localhost:8080/"
        },
        "id": "U2wXLDACLluE",
        "outputId": "44abe2b6-7cd1-4f30-a78f-482cc077d9f3"
      },
      "execution_count": null,
      "outputs": [
        {
          "output_type": "stream",
          "name": "stderr",
          "text": [
            "<ipython-input-148-9a2299ee2531>:1: SettingWithCopyWarning: \n",
            "A value is trying to be set on a copy of a slice from a DataFrame.\n",
            "Try using .loc[row_indexer,col_indexer] = value instead\n",
            "\n",
            "See the caveats in the documentation: https://pandas.pydata.org/pandas-docs/stable/user_guide/indexing.html#returning-a-view-versus-a-copy\n",
            "  testing_set['Predictions'] = true_predictions\n"
          ]
        }
      ]
    },
    {
      "cell_type": "code",
      "source": [
        "testing_set"
      ],
      "metadata": {
        "colab": {
          "base_uri": "https://localhost:8080/",
          "height": 1000
        },
        "id": "fruQ_wwkgBMw",
        "outputId": "4734f89d-0ef8-4364-bb4f-858836a33226"
      },
      "execution_count": null,
      "outputs": [
        {
          "output_type": "execute_result",
          "data": {
            "text/plain": [
              "                                Volume   Predictions\n",
              "Date                                                \n",
              "2022-12-14 00:00:00+00:00  25534481470  2.628640e+10\n",
              "2022-12-15 00:00:00+00:00  20964448341  2.470924e+10\n",
              "2022-12-16 00:00:00+00:00  24031608960  2.288053e+10\n",
              "2022-12-17 00:00:00+00:00  14463581825  2.203944e+10\n",
              "2022-12-18 00:00:00+00:00  10924354698  2.234508e+10\n",
              "2022-12-19 00:00:00+00:00  17221074814  2.320850e+10\n",
              "2022-12-20 00:00:00+00:00  22722096615  2.391086e+10\n",
              "2022-12-21 00:00:00+00:00  14882945045  2.414392e+10\n",
              "2022-12-22 00:00:00+00:00  16441573050  2.404981e+10\n",
              "2022-12-23 00:00:00+00:00  15329265213  2.389739e+10\n",
              "2022-12-24 00:00:00+00:00   9744636213  2.390671e+10\n",
              "2022-12-25 00:00:00+00:00  11656379938  2.409403e+10\n",
              "2022-12-26 00:00:00+00:00  11886957804  2.436038e+10\n",
              "2022-12-27 00:00:00+00:00  15748580239  2.460358e+10\n",
              "2022-12-28 00:00:00+00:00  17005713920  2.478410e+10\n",
              "2022-12-29 00:00:00+00:00  14472237479  2.491726e+10\n",
              "2022-12-30 00:00:00+00:00  15929162910  2.503361e+10\n",
              "2022-12-31 00:00:00+00:00  11239186456  2.515027e+10\n",
              "2023-01-01 00:00:00+00:00   9244361700  2.527941e+10\n",
              "2023-01-02 00:00:00+00:00  12097775227  2.541918e+10\n",
              "2023-01-03 00:00:00+00:00  13903079207  2.556225e+10\n",
              "2023-01-04 00:00:00+00:00  18421743322  2.569215e+10\n",
              "2023-01-05 00:00:00+00:00  13692758566  2.579129e+10\n",
              "2023-01-06 00:00:00+00:00  14413662913  2.587604e+10\n",
              "2023-01-07 00:00:00+00:00   7714767174  2.595607e+10\n",
              "2023-01-08 00:00:00+00:00   9768827914  2.603875e+10\n",
              "2023-01-09 00:00:00+00:00  18624736866  2.613489e+10\n",
              "2023-01-10 00:00:00+00:00  15808338949  2.625729e+10\n",
              "2023-01-11 00:00:00+00:00  18372283782  2.637798e+10\n",
              "2023-01-12 00:00:00+00:00  34971338710  2.646432e+10"
            ],
            "text/html": [
              "\n",
              "  <div id=\"df-2e732450-9983-40c9-8a48-ab469b4006f0\">\n",
              "    <div class=\"colab-df-container\">\n",
              "      <div>\n",
              "<style scoped>\n",
              "    .dataframe tbody tr th:only-of-type {\n",
              "        vertical-align: middle;\n",
              "    }\n",
              "\n",
              "    .dataframe tbody tr th {\n",
              "        vertical-align: top;\n",
              "    }\n",
              "\n",
              "    .dataframe thead th {\n",
              "        text-align: right;\n",
              "    }\n",
              "</style>\n",
              "<table border=\"1\" class=\"dataframe\">\n",
              "  <thead>\n",
              "    <tr style=\"text-align: right;\">\n",
              "      <th></th>\n",
              "      <th>Volume</th>\n",
              "      <th>Predictions</th>\n",
              "    </tr>\n",
              "    <tr>\n",
              "      <th>Date</th>\n",
              "      <th></th>\n",
              "      <th></th>\n",
              "    </tr>\n",
              "  </thead>\n",
              "  <tbody>\n",
              "    <tr>\n",
              "      <th>2022-12-14 00:00:00+00:00</th>\n",
              "      <td>25534481470</td>\n",
              "      <td>2.628640e+10</td>\n",
              "    </tr>\n",
              "    <tr>\n",
              "      <th>2022-12-15 00:00:00+00:00</th>\n",
              "      <td>20964448341</td>\n",
              "      <td>2.470924e+10</td>\n",
              "    </tr>\n",
              "    <tr>\n",
              "      <th>2022-12-16 00:00:00+00:00</th>\n",
              "      <td>24031608960</td>\n",
              "      <td>2.288053e+10</td>\n",
              "    </tr>\n",
              "    <tr>\n",
              "      <th>2022-12-17 00:00:00+00:00</th>\n",
              "      <td>14463581825</td>\n",
              "      <td>2.203944e+10</td>\n",
              "    </tr>\n",
              "    <tr>\n",
              "      <th>2022-12-18 00:00:00+00:00</th>\n",
              "      <td>10924354698</td>\n",
              "      <td>2.234508e+10</td>\n",
              "    </tr>\n",
              "    <tr>\n",
              "      <th>2022-12-19 00:00:00+00:00</th>\n",
              "      <td>17221074814</td>\n",
              "      <td>2.320850e+10</td>\n",
              "    </tr>\n",
              "    <tr>\n",
              "      <th>2022-12-20 00:00:00+00:00</th>\n",
              "      <td>22722096615</td>\n",
              "      <td>2.391086e+10</td>\n",
              "    </tr>\n",
              "    <tr>\n",
              "      <th>2022-12-21 00:00:00+00:00</th>\n",
              "      <td>14882945045</td>\n",
              "      <td>2.414392e+10</td>\n",
              "    </tr>\n",
              "    <tr>\n",
              "      <th>2022-12-22 00:00:00+00:00</th>\n",
              "      <td>16441573050</td>\n",
              "      <td>2.404981e+10</td>\n",
              "    </tr>\n",
              "    <tr>\n",
              "      <th>2022-12-23 00:00:00+00:00</th>\n",
              "      <td>15329265213</td>\n",
              "      <td>2.389739e+10</td>\n",
              "    </tr>\n",
              "    <tr>\n",
              "      <th>2022-12-24 00:00:00+00:00</th>\n",
              "      <td>9744636213</td>\n",
              "      <td>2.390671e+10</td>\n",
              "    </tr>\n",
              "    <tr>\n",
              "      <th>2022-12-25 00:00:00+00:00</th>\n",
              "      <td>11656379938</td>\n",
              "      <td>2.409403e+10</td>\n",
              "    </tr>\n",
              "    <tr>\n",
              "      <th>2022-12-26 00:00:00+00:00</th>\n",
              "      <td>11886957804</td>\n",
              "      <td>2.436038e+10</td>\n",
              "    </tr>\n",
              "    <tr>\n",
              "      <th>2022-12-27 00:00:00+00:00</th>\n",
              "      <td>15748580239</td>\n",
              "      <td>2.460358e+10</td>\n",
              "    </tr>\n",
              "    <tr>\n",
              "      <th>2022-12-28 00:00:00+00:00</th>\n",
              "      <td>17005713920</td>\n",
              "      <td>2.478410e+10</td>\n",
              "    </tr>\n",
              "    <tr>\n",
              "      <th>2022-12-29 00:00:00+00:00</th>\n",
              "      <td>14472237479</td>\n",
              "      <td>2.491726e+10</td>\n",
              "    </tr>\n",
              "    <tr>\n",
              "      <th>2022-12-30 00:00:00+00:00</th>\n",
              "      <td>15929162910</td>\n",
              "      <td>2.503361e+10</td>\n",
              "    </tr>\n",
              "    <tr>\n",
              "      <th>2022-12-31 00:00:00+00:00</th>\n",
              "      <td>11239186456</td>\n",
              "      <td>2.515027e+10</td>\n",
              "    </tr>\n",
              "    <tr>\n",
              "      <th>2023-01-01 00:00:00+00:00</th>\n",
              "      <td>9244361700</td>\n",
              "      <td>2.527941e+10</td>\n",
              "    </tr>\n",
              "    <tr>\n",
              "      <th>2023-01-02 00:00:00+00:00</th>\n",
              "      <td>12097775227</td>\n",
              "      <td>2.541918e+10</td>\n",
              "    </tr>\n",
              "    <tr>\n",
              "      <th>2023-01-03 00:00:00+00:00</th>\n",
              "      <td>13903079207</td>\n",
              "      <td>2.556225e+10</td>\n",
              "    </tr>\n",
              "    <tr>\n",
              "      <th>2023-01-04 00:00:00+00:00</th>\n",
              "      <td>18421743322</td>\n",
              "      <td>2.569215e+10</td>\n",
              "    </tr>\n",
              "    <tr>\n",
              "      <th>2023-01-05 00:00:00+00:00</th>\n",
              "      <td>13692758566</td>\n",
              "      <td>2.579129e+10</td>\n",
              "    </tr>\n",
              "    <tr>\n",
              "      <th>2023-01-06 00:00:00+00:00</th>\n",
              "      <td>14413662913</td>\n",
              "      <td>2.587604e+10</td>\n",
              "    </tr>\n",
              "    <tr>\n",
              "      <th>2023-01-07 00:00:00+00:00</th>\n",
              "      <td>7714767174</td>\n",
              "      <td>2.595607e+10</td>\n",
              "    </tr>\n",
              "    <tr>\n",
              "      <th>2023-01-08 00:00:00+00:00</th>\n",
              "      <td>9768827914</td>\n",
              "      <td>2.603875e+10</td>\n",
              "    </tr>\n",
              "    <tr>\n",
              "      <th>2023-01-09 00:00:00+00:00</th>\n",
              "      <td>18624736866</td>\n",
              "      <td>2.613489e+10</td>\n",
              "    </tr>\n",
              "    <tr>\n",
              "      <th>2023-01-10 00:00:00+00:00</th>\n",
              "      <td>15808338949</td>\n",
              "      <td>2.625729e+10</td>\n",
              "    </tr>\n",
              "    <tr>\n",
              "      <th>2023-01-11 00:00:00+00:00</th>\n",
              "      <td>18372283782</td>\n",
              "      <td>2.637798e+10</td>\n",
              "    </tr>\n",
              "    <tr>\n",
              "      <th>2023-01-12 00:00:00+00:00</th>\n",
              "      <td>34971338710</td>\n",
              "      <td>2.646432e+10</td>\n",
              "    </tr>\n",
              "  </tbody>\n",
              "</table>\n",
              "</div>\n",
              "      <button class=\"colab-df-convert\" onclick=\"convertToInteractive('df-2e732450-9983-40c9-8a48-ab469b4006f0')\"\n",
              "              title=\"Convert this dataframe to an interactive table.\"\n",
              "              style=\"display:none;\">\n",
              "        \n",
              "  <svg xmlns=\"http://www.w3.org/2000/svg\" height=\"24px\"viewBox=\"0 0 24 24\"\n",
              "       width=\"24px\">\n",
              "    <path d=\"M0 0h24v24H0V0z\" fill=\"none\"/>\n",
              "    <path d=\"M18.56 5.44l.94 2.06.94-2.06 2.06-.94-2.06-.94-.94-2.06-.94 2.06-2.06.94zm-11 1L8.5 8.5l.94-2.06 2.06-.94-2.06-.94L8.5 2.5l-.94 2.06-2.06.94zm10 10l.94 2.06.94-2.06 2.06-.94-2.06-.94-.94-2.06-.94 2.06-2.06.94z\"/><path d=\"M17.41 7.96l-1.37-1.37c-.4-.4-.92-.59-1.43-.59-.52 0-1.04.2-1.43.59L10.3 9.45l-7.72 7.72c-.78.78-.78 2.05 0 2.83L4 21.41c.39.39.9.59 1.41.59.51 0 1.02-.2 1.41-.59l7.78-7.78 2.81-2.81c.8-.78.8-2.07 0-2.86zM5.41 20L4 18.59l7.72-7.72 1.47 1.35L5.41 20z\"/>\n",
              "  </svg>\n",
              "      </button>\n",
              "      \n",
              "  <style>\n",
              "    .colab-df-container {\n",
              "      display:flex;\n",
              "      flex-wrap:wrap;\n",
              "      gap: 12px;\n",
              "    }\n",
              "\n",
              "    .colab-df-convert {\n",
              "      background-color: #E8F0FE;\n",
              "      border: none;\n",
              "      border-radius: 50%;\n",
              "      cursor: pointer;\n",
              "      display: none;\n",
              "      fill: #1967D2;\n",
              "      height: 32px;\n",
              "      padding: 0 0 0 0;\n",
              "      width: 32px;\n",
              "    }\n",
              "\n",
              "    .colab-df-convert:hover {\n",
              "      background-color: #E2EBFA;\n",
              "      box-shadow: 0px 1px 2px rgba(60, 64, 67, 0.3), 0px 1px 3px 1px rgba(60, 64, 67, 0.15);\n",
              "      fill: #174EA6;\n",
              "    }\n",
              "\n",
              "    [theme=dark] .colab-df-convert {\n",
              "      background-color: #3B4455;\n",
              "      fill: #D2E3FC;\n",
              "    }\n",
              "\n",
              "    [theme=dark] .colab-df-convert:hover {\n",
              "      background-color: #434B5C;\n",
              "      box-shadow: 0px 1px 3px 1px rgba(0, 0, 0, 0.15);\n",
              "      filter: drop-shadow(0px 1px 2px rgba(0, 0, 0, 0.3));\n",
              "      fill: #FFFFFF;\n",
              "    }\n",
              "  </style>\n",
              "\n",
              "      <script>\n",
              "        const buttonEl =\n",
              "          document.querySelector('#df-2e732450-9983-40c9-8a48-ab469b4006f0 button.colab-df-convert');\n",
              "        buttonEl.style.display =\n",
              "          google.colab.kernel.accessAllowed ? 'block' : 'none';\n",
              "\n",
              "        async function convertToInteractive(key) {\n",
              "          const element = document.querySelector('#df-2e732450-9983-40c9-8a48-ab469b4006f0');\n",
              "          const dataTable =\n",
              "            await google.colab.kernel.invokeFunction('convertToInteractive',\n",
              "                                                     [key], {});\n",
              "          if (!dataTable) return;\n",
              "\n",
              "          const docLinkHtml = 'Like what you see? Visit the ' +\n",
              "            '<a target=\"_blank\" href=https://colab.research.google.com/notebooks/data_table.ipynb>data table notebook</a>'\n",
              "            + ' to learn more about interactive tables.';\n",
              "          element.innerHTML = '';\n",
              "          dataTable['output_type'] = 'display_data';\n",
              "          await google.colab.output.renderOutput(dataTable, element);\n",
              "          const docLink = document.createElement('div');\n",
              "          docLink.innerHTML = docLinkHtml;\n",
              "          element.appendChild(docLink);\n",
              "        }\n",
              "      </script>\n",
              "    </div>\n",
              "  </div>\n",
              "  "
            ]
          },
          "metadata": {},
          "execution_count": 149
        }
      ]
    },
    {
      "cell_type": "code",
      "source": [
        "testing_set.plot(figsize = (20,5))"
      ],
      "metadata": {
        "colab": {
          "base_uri": "https://localhost:8080/",
          "height": 398
        },
        "id": "iW8q3wYEMmWa",
        "outputId": "32640bc8-ee72-4b6e-c34b-88193080b74d"
      },
      "execution_count": null,
      "outputs": [
        {
          "output_type": "execute_result",
          "data": {
            "text/plain": [
              "<matplotlib.axes._subplots.AxesSubplot at 0x7fb29837edc0>"
            ]
          },
          "metadata": {},
          "execution_count": 150
        },
        {
          "output_type": "display_data",
          "data": {
            "text/plain": [
              "<Figure size 1440x360 with 1 Axes>"
            ],
            "image/png": "[encoded data removed]"
          },
          "metadata": {
            "needs_background": "light"
          }
        }
      ]
    },
    {
      "cell_type": "markdown",
      "source": [
        "Using the Root Mean Square Error Method to see how much differnce will it make compared to the original data."
      ],
      "metadata": {
        "id": "0pjfy2mgUaH5"
      }
    },
    {
      "cell_type": "code",
      "source": [
        "from sklearn.metrics import mean_squared_error\n",
        "from math import sqrt\n",
        "rmse = sqrt(mean_squared_error(testing_set['Volume'],testing_set['Predictions']))\n",
        "print(rmse)"
      ],
      "metadata": {
        "colab": {
          "base_uri": "https://localhost:8080/"
        },
        "id": "Vhe3xEasTTW9",
        "outputId": "d592c2df-0c4c-4ce8-9e2e-34ce105ee3b1"
      },
      "execution_count": null,
      "outputs": [
        {
          "output_type": "stream",
          "name": "stdout",
          "text": [
            "10478503028.530937\n"
          ]
        }
      ]
    },
    {
      "cell_type": "markdown",
      "source": [
        "The result form the RMSE is showing us that the difference is highe so the data is biased. SO we need to collect more data. "
      ],
      "metadata": {
        "id": "E03aLEDjU35K"
      }
    },
    {
      "cell_type": "markdown",
      "source": [
        "*** End****"
      ],
      "metadata": {
        "id": "XHc1ln6MlV4Z"
      }
    },
    {
      "cell_type": "markdown",
      "source": [
        "LSTM: It is a complex structure located in the hidden layer known as the memory block. It might contain more than 1 memory call and each cell has a recurrent self connected linear init called the Constant Error Carousel(CEC). It is responsible to solve the vanishing gradient problem. A memory cell is located beside the RNN cell, epoch allows memories from previous time frames to b collected and transferred into the  next one. That is why LSTM is a well-known  neural network due tot its ability to cope with long term dependency. It is the optimal model for time series data. LSTM model can be applied to the non-linear component of the data whereas. When experimenting with LSTM it is found that improving from 2 layers to 3 layers of didn’t show a significant improvement. The other option as compared to LSTM is Deep-Bidirectional LSTM(BiLSTM) since it has better prediction accuracy compared to LSTM. The LSTM is able to predict long-term predictions since their dependency is on the past data. \n",
        "Also, NN can work with linear and non-linear time series data. \n",
        "Also it gives a better performance when its is trained using a lot of data. The neural network model took advantage of the large training se which produces better results compared to the ARIMA model. \n",
        "\n",
        "\n",
        "\n",
        "\n",
        "ARIMA-ARIMA model can be applied to the linear component of the data.  \n",
        " It requires large  number of observations and estimations. It is widely used to deal with the trend and seasonality. "
      ],
      "metadata": {
        "id": "18zY0j98lYiP"
      }
    }
  ]
}